{
 "cells": [
  {
   "cell_type": "markdown",
   "id": "969d3f14",
   "metadata": {},
   "source": [
    "# ✅ 1. Variables"
   ]
  },
  {
   "cell_type": "markdown",
   "id": "ba99d43d",
   "metadata": {},
   "source": [
    "What is a Variable?\n",
    "\n",
    "\n",
    "A variable is a name that refers to a value stored in the computer’s memory. Think of it like a label on a jar that holds data."
   ]
  },
  {
   "cell_type": "markdown",
   "id": "ed6bbf79",
   "metadata": {},
   "source": [
    "* JAVA   \n",
    " String name=\"Sravani\",\n",
    " int id =24,\n",
    " float amount = 25000.23,\n",
    " boolean Availble =True.\n",
    " "
   ]
  },
  {
   "cell_type": "code",
   "execution_count": 1,
   "id": "53181cb8",
   "metadata": {},
   "outputs": [
    {
     "name": "stdout",
     "output_type": "stream",
     "text": [
      "Sravani\n"
     ]
    },
    {
     "data": {
      "text/plain": [
       "str"
      ]
     },
     "execution_count": 1,
     "metadata": {},
     "output_type": "execute_result"
    }
   ],
   "source": [
    "name='Sravani' #Fror String\n",
    "print(name)\n",
    "type(name)"
   ]
  },
  {
   "cell_type": "code",
   "execution_count": 2,
   "id": "dc46b6fb",
   "metadata": {},
   "outputs": [
    {
     "name": "stdout",
     "output_type": "stream",
     "text": [
      "22311011\n"
     ]
    },
    {
     "data": {
      "text/plain": [
       "int"
      ]
     },
     "execution_count": 2,
     "metadata": {},
     "output_type": "execute_result"
    }
   ],
   "source": [
    "id = 22311011 #Integer\n",
    "print(id)\n",
    "type(id)"
   ]
  },
  {
   "cell_type": "code",
   "execution_count": 3,
   "id": "eb8d5855",
   "metadata": {},
   "outputs": [
    {
     "name": "stdout",
     "output_type": "stream",
     "text": [
      "240000.23\n"
     ]
    },
    {
     "data": {
      "text/plain": [
       "float"
      ]
     },
     "execution_count": 3,
     "metadata": {},
     "output_type": "execute_result"
    }
   ],
   "source": [
    "fl= 240000.23 #Float\n",
    "print(fl)\n",
    "type(fl)"
   ]
  },
  {
   "cell_type": "code",
   "execution_count": 4,
   "id": "c1bd0ff1",
   "metadata": {},
   "outputs": [
    {
     "name": "stdout",
     "output_type": "stream",
     "text": [
      "True\n"
     ]
    },
    {
     "data": {
      "text/plain": [
       "bool"
      ]
     },
     "execution_count": 4,
     "metadata": {},
     "output_type": "execute_result"
    }
   ],
   "source": [
    "Avl = True #Bool\n",
    "print(Avl)\n",
    "type(Avl)\n"
   ]
  },
  {
   "cell_type": "markdown",
   "id": "e1a415c3",
   "metadata": {},
   "source": [
    "---"
   ]
  },
  {
   "cell_type": "markdown",
   "id": "3c6c20e8",
   "metadata": {},
   "source": [
    "# ✅ 2. USER_INPUTS"
   ]
  },
  {
   "cell_type": "markdown",
   "id": "adaf8926",
   "metadata": {},
   "source": [
    "\n",
    "\n",
    "\n",
    "\n",
    "System.out.println(\"ENTER UR NUMBER:\") -JAVA"
   ]
  },
  {
   "cell_type": "code",
   "execution_count": 5,
   "id": "71c3cfdf",
   "metadata": {},
   "outputs": [
    {
     "name": "stdout",
     "output_type": "stream",
     "text": [
      "surya <class 'str'>\n"
     ]
    }
   ],
   "source": [
    "n=input(\"Enter your Number:\") #input Default Str\n",
    "print(n, type(n))"
   ]
  },
  {
   "cell_type": "code",
   "execution_count": 6,
   "id": "3fd320e0",
   "metadata": {},
   "outputs": [
    {
     "name": "stdout",
     "output_type": "stream",
     "text": [
      "455 <class 'int'>\n"
     ]
    }
   ],
   "source": [
    "n=int(input(\"Enter your Number:\")) #input Int\n",
    "print(n, type(n))"
   ]
  },
  {
   "cell_type": "code",
   "execution_count": 7,
   "id": "67b91c6d",
   "metadata": {},
   "outputs": [
    {
     "name": "stdout",
     "output_type": "stream",
     "text": [
      "520.231 <class 'float'>\n",
      "True <class 'bool'>\n"
     ]
    }
   ],
   "source": [
    "f = float(input(\"Enter a float: \"))\n",
    "b = input(\"Enter a boolean (True/False): \").strip().lower() == \"true\"\n",
    "\n",
    "print(f, type(f))\n",
    "print(b, type(b))"
   ]
  },
  {
   "cell_type": "markdown",
   "id": "7b033a3d",
   "metadata": {},
   "source": [
    "---"
   ]
  },
  {
   "cell_type": "markdown",
   "id": "6b8d8330",
   "metadata": {},
   "source": [
    "# ✅ 3. TYPE CONVERSIONS"
   ]
  },
  {
   "cell_type": "markdown",
   "id": "4e738ed0",
   "metadata": {},
   "source": [
    "\n",
    "\n",
    "\n",
    "\n",
    "🔹 Why convert types?\n",
    "Sometimes, you need to switch between data types to do certain operations.\n",
    "\n",
    "🔁 Type Casting Examples:"
   ]
  },
  {
   "cell_type": "code",
   "execution_count": 8,
   "id": "5bf03a79",
   "metadata": {},
   "outputs": [
    {
     "name": "stdout",
     "output_type": "stream",
     "text": [
      "Surya\n"
     ]
    },
    {
     "data": {
      "text/plain": [
       "str"
      ]
     },
     "execution_count": 8,
     "metadata": {},
     "output_type": "execute_result"
    }
   ],
   "source": [
    "a=input(\"enter ur number:\")\n",
    "print(a) #Displaying or Print\n",
    "a #Calling\n",
    "type(a)"
   ]
  },
  {
   "cell_type": "code",
   "execution_count": 9,
   "id": "47afd5c2",
   "metadata": {},
   "outputs": [
    {
     "name": "stdout",
     "output_type": "stream",
     "text": [
      "23433 <class 'str'>\n",
      "23433 <class 'int'>\n"
     ]
    }
   ],
   "source": [
    "#str->int  BY Storing in ANOTHER VARIABLE\n",
    "contact=input(\"Enter ur Phone Number:\")\n",
    "print(contact, type(contact))\n",
    "ic=int(contact)\n",
    "print(ic, type(ic))"
   ]
  },
  {
   "cell_type": "code",
   "execution_count": 10,
   "id": "2dc36bbf",
   "metadata": {},
   "outputs": [
    {
     "name": "stdout",
     "output_type": "stream",
     "text": [
      "454455 <class 'str'>\n",
      "454455 <class 'int'>\n"
     ]
    }
   ],
   "source": [
    "#STR TO INT ITSELF\n",
    "contact=input(\"Enter ur Phone Number:\")\n",
    "print(contact, type(contact))\n",
    "contact=int(contact)\n",
    "print(contact, type(contact))"
   ]
  },
  {
   "cell_type": "code",
   "execution_count": 11,
   "id": "ffb5d4c3",
   "metadata": {},
   "outputs": [
    {
     "name": "stdout",
     "output_type": "stream",
     "text": [
      "2324 <class 'int'>\n",
      "2324 <class 'str'>\n"
     ]
    }
   ],
   "source": [
    "#INT TO STR ITSELF\n",
    "contact=int(input(\"Enter ur Phone Number:\"))\n",
    "print(contact, type(contact))\n",
    "contact=str(contact)\n",
    "print(contact, type(contact))"
   ]
  },
  {
   "cell_type": "code",
   "execution_count": 12,
   "id": "fdfd5a65",
   "metadata": {},
   "outputs": [
    {
     "name": "stdout",
     "output_type": "stream",
     "text": [
      "2313425 <class 'int'>\n",
      "2313425.0 <class 'float'>\n"
     ]
    }
   ],
   "source": [
    "#INT TO FLOAT ITSELF\n",
    "contact=int(input(\"Enter ur Phone Number:\"))\n",
    "print(contact, type(contact))\n",
    "contact=float(contact)\n",
    "print(contact, type(contact))"
   ]
  },
  {
   "cell_type": "code",
   "execution_count": 13,
   "id": "0b029290",
   "metadata": {},
   "outputs": [
    {
     "name": "stdout",
     "output_type": "stream",
     "text": [
      "32432.255 <class 'float'>\n",
      "32432 <class 'int'>\n"
     ]
    }
   ],
   "source": [
    "#Float TO INT ITSELF\n",
    "contact=float(input(\"Enter ur Phone Number:\"))\n",
    "print(contact, type(contact))\n",
    "contact=int(contact)\n",
    "print(contact, type(contact))"
   ]
  },
  {
   "cell_type": "code",
   "execution_count": 14,
   "id": "899a61b3",
   "metadata": {},
   "outputs": [
    {
     "name": "stdout",
     "output_type": "stream",
     "text": [
      "32423.255 <class 'float'>\n",
      "32423.255 <class 'str'>\n"
     ]
    }
   ],
   "source": [
    "#Float TO STR ITSELF\n",
    "contact=float(input(\"Enter ur Phone Number:\"))\n",
    "print(contact, type(contact))\n",
    "contact=str(contact)\n",
    "print(contact, type(contact))"
   ]
  },
  {
   "cell_type": "code",
   "execution_count": 15,
   "id": "cf656e58",
   "metadata": {},
   "outputs": [
    {
     "name": "stdout",
     "output_type": "stream",
     "text": [
      "345367.565 <class 'str'>\n",
      "345367.565 <class 'float'>\n"
     ]
    }
   ],
   "source": [
    "#Str TO Float ITSELF\n",
    "contact=input(\"Enter ur Phone Number:\")\n",
    "print(contact, type(contact))\n",
    "contact=float(contact)\n",
    "print(contact, type(contact))"
   ]
  },
  {
   "cell_type": "code",
   "execution_count": 16,
   "id": "c24bf84f",
   "metadata": {},
   "outputs": [
    {
     "name": "stdout",
     "output_type": "stream",
     "text": [
      "5.0\n",
      "3\n",
      "123\n",
      "20\n"
     ]
    }
   ],
   "source": [
    "# int to float\n",
    "x = 5\n",
    "y = float(x)    \n",
    "print(y)   # y becomes 5.0\n",
    "\n",
    "# float to int\n",
    "z = int(3.9) \n",
    "print(z)      # z becomes 3 (decimal cut off)\n",
    "\n",
    "# string to int\n",
    "s = \"123\"\n",
    "n = int(s)     \n",
    "print(n)    # n becomes 123\n",
    "\n",
    "# int to string\n",
    "age = 20\n",
    "str_age = str(age)\n",
    "print(str_age) # \"20\""
   ]
  },
  {
   "cell_type": "markdown",
   "id": "5f452630",
   "metadata": {},
   "source": [
    "---"
   ]
  },
  {
   "cell_type": "markdown",
   "id": "9032a062",
   "metadata": {},
   "source": [
    "# ✅ 4.DATA TYPES"
   ]
  },
  {
   "cell_type": "markdown",
   "id": "0427076e",
   "metadata": {},
   "source": [
    "1. Integer (int)\n",
    "\n",
    "* Used to represent whole numbers.\n",
    "* No decimals.\n",
    "* Positive or negative."
   ]
  },
  {
   "cell_type": "code",
   "execution_count": 17,
   "id": "dcfa16c8",
   "metadata": {},
   "outputs": [
    {
     "data": {
      "text/plain": [
       "(10, -3)"
      ]
     },
     "execution_count": 17,
     "metadata": {},
     "output_type": "execute_result"
    }
   ],
   "source": [
    "x = 10      # int\n",
    "y = -3      # intS\n",
    "x,y"
   ]
  },
  {
   "cell_type": "markdown",
   "id": "910e3283",
   "metadata": {},
   "source": [
    " 2. Float (float)\n",
    "\n",
    "* Used for decimal or fractional numbers.\n",
    "* Includes decimal point."
   ]
  },
  {
   "cell_type": "code",
   "execution_count": 18,
   "id": "872f928b",
   "metadata": {},
   "outputs": [
    {
     "data": {
      "text/plain": [
       "(10.99, 5.8)"
      ]
     },
     "execution_count": 18,
     "metadata": {},
     "output_type": "execute_result"
    }
   ],
   "source": [
    "price = 10.99     # float\n",
    "height = 5.8      # float\n",
    "price , height\n"
   ]
  },
  {
   "cell_type": "markdown",
   "id": "b20d719c",
   "metadata": {},
   "source": [
    " 3. String (str)\n",
    "\n",
    "* Used for textual data.\n",
    "* Enclosed in single (') or double (\") quotes."
   ]
  },
  {
   "cell_type": "code",
   "execution_count": 19,
   "id": "6eff88cf",
   "metadata": {},
   "outputs": [
    {
     "name": "stdout",
     "output_type": "stream",
     "text": [
      "Hello Ali\n"
     ]
    }
   ],
   "source": [
    "name = \"Ali\"\n",
    "greeting = 'Hello'\n",
    "print(greeting,name)"
   ]
  },
  {
   "cell_type": "markdown",
   "id": "ba3b24c7",
   "metadata": {},
   "source": [
    " 4.Boolean (bool)\n",
    "* Represents True or False values.\n",
    "\n",
    "* Useful in conditions or logic checks."
   ]
  },
  {
   "cell_type": "code",
   "execution_count": 20,
   "id": "342f117b",
   "metadata": {},
   "outputs": [
    {
     "name": "stdout",
     "output_type": "stream",
     "text": [
      "True\n"
     ]
    }
   ],
   "source": [
    "sunny = True\n",
    "is_raining = False\n",
    "print(sunny)"
   ]
  },
  {
   "cell_type": "markdown",
   "id": "831cdd6b",
   "metadata": {},
   "source": [
    "5.List (list)\n",
    "A list is like a box of items in a specific order where you can change, add, or remove items.\n",
    "\n",
    "* Ordered, changeable (mutable) collection.\n",
    "* Allows duplicates.\n",
    "* Can contain mixed data types.\n",
    "\n",
    "🧠 Real-World Example:\n",
    "Shopping cart: [\"shoes\", \"shirt\", \"watch\"]\n",
    "\n",
    "To-do list items."
   ]
  },
  {
   "cell_type": "code",
   "execution_count": 21,
   "id": "c1bc3b44",
   "metadata": {},
   "outputs": [
    {
     "data": {
      "text/plain": [
       "[22, 31, 12, 1234, 111, 2, 7, 48]"
      ]
     },
     "execution_count": 21,
     "metadata": {},
     "output_type": "execute_result"
    }
   ],
   "source": [
    "fruits = [\"apple\", \"banana\", \"cherry\"]\n",
    "numbers = [1, 2, 3]\n",
    "mix = [1, \"Ali\", 3.5]\n",
    "mix_dup=mix.copy()\n",
    "mix_dup\n",
    "\n",
    "mix_dup[1]=\"SravaniA\" #Changeable\n",
    "mix_dup\n",
    "mix_dup.append(\"SravaniA\") #Duplicates\n",
    "mix_dup\n",
    "9\n",
    "ls=[22,31,12,1234,111,2,7,48]\n",
    "ls"
   ]
  },
  {
   "cell_type": "code",
   "execution_count": 22,
   "id": "0b970c16",
   "metadata": {},
   "outputs": [
    {
     "name": "stdout",
     "output_type": "stream",
     "text": [
      "Appeneded List: [10, 20, 30, 40, 50]\n",
      "[50, 40, 30, 20, 10]\n",
      "Modified list: [10, 80, 20, 30, 40, 50]\n",
      "[10, 80, 30, 40, 50]\n",
      "List AFTER POP: [10, 80, 30, 40]\n",
      "Asc sorted list: [10, 30, 40, 80]\n",
      "Desc Order: [80, 40, 30, 10]\n",
      "Index for 40 value is: 1\n",
      "No of Times SravaniA Repeated: 2\n"
     ]
    }
   ],
   "source": [
    "#Creating a List \n",
    "my_list = [10, 20, 30, 40]\n",
    "#For Adding or Appending(Adds item to end)\n",
    "my_list.append(50)\n",
    "print(\"Appeneded List:\",my_list)\n",
    "my_list_s=my_list.copy()\n",
    "my_list_s.reverse()\n",
    "print(my_list_s)\n",
    "\n",
    "#For inserting in  a Specific Place (Adds item at specific position)\n",
    "#Replacing index 1(20) with 80\n",
    "my_list.insert(1,80)\n",
    "print(\"Modified list:\",my_list)\n",
    "\n",
    "\n",
    "#For Removing a Value in the list \n",
    "#want to Remove 20 in the List\n",
    "my_list.remove(20)\n",
    "print(my_list)\n",
    "\n",
    "#For Removing a Last Value\n",
    "my_list.pop()\n",
    "print(\"List AFTER POP:\",my_list)\n",
    "\n",
    "# Sorting \n",
    "my_list.sort() #By Default it is in Asc Order\n",
    "print(\"Asc sorted list:\",my_list)\n",
    "\n",
    "my_list.reverse() #Sorting in Desc\n",
    "#my_list.sort(reverse=True)\n",
    "print(\"Desc Order:\",my_list)\n",
    "\n",
    "#Finding Index\n",
    "ind=my_list.index(40)\n",
    "print(\"Index for 40 value is:\", ind)\n",
    "\n",
    "#Count of List\n",
    "mix_dup\n",
    "mix_rep=mix_dup.count('SravaniA')\n",
    "print(\"No of Times SravaniA Repeated:\", mix_rep) #Count of Value Re-Occurance "
   ]
  },
  {
   "cell_type": "markdown",
   "id": "2527121e",
   "metadata": {},
   "source": [
    "6.Tuple (tuple)\n",
    "\n",
    "A tuple is like a locked box. You can look inside but can’t change the contents after creation.\n",
    "\n",
    "* Ordered, unchangeable (immutable) collection.\n",
    "* Allows duplicates.\n",
    "\n",
    "(COUNT, INDEX, SORTING)\n",
    "\n",
    "🧠 Real-World Example:\n",
    "Geographic coordinates: (latitude, longitude)\n",
    "\n",
    "Birth date: (year, month, day)"
   ]
  },
  {
   "cell_type": "code",
   "execution_count": 23,
   "id": "f59f514f",
   "metadata": {},
   "outputs": [
    {
     "name": "stdout",
     "output_type": "stream",
     "text": [
      "('red', 'blue', 'green') (10.5, 20.2)\n"
     ]
    }
   ],
   "source": [
    "colors = (\"red\", \"blue\", \"green\")\n",
    "coordinates = (10.5, 20.2)\n",
    "print(colors,coordinates)\n",
    "\n"
   ]
  },
  {
   "cell_type": "code",
   "execution_count": 24,
   "id": "061ec2a1",
   "metadata": {},
   "outputs": [
    {
     "name": "stdout",
     "output_type": "stream",
     "text": [
      "10\n",
      "20\n",
      "30\n",
      "The value 10 no of times occured 1\n",
      "Value 30 index is 2\n",
      "[10, 20, 30]\n",
      "20\n",
      "(10, 20)\n",
      "len of tuple 3\n",
      "True\n",
      "True\n",
      "Rep (10, 20, 30, 10, 20, 30, 10, 20, 30, 10, 20, 30)\n",
      "Countelements 3\n",
      "Conc (1, 2, 3, 4)\n"
     ]
    }
   ],
   "source": [
    "my_tuple = (10, 20, 30)\n",
    "\n",
    "t=(10,20,30)\n",
    "#Iteration\n",
    "for item in t:\n",
    "    print(item)\n",
    "\n",
    "#To Count the value How many times Occured\n",
    "print(\"The value 10 no of times occured\", my_tuple.count(10))\n",
    "\n",
    "#To find the index of value =30\n",
    "print(\"Value 30 index is\",my_tuple.index(30))\n",
    "\n",
    "#Sorting\n",
    "sorted_tuple=sorted(my_tuple)\n",
    "print(sorted_tuple)\n",
    "\n",
    "#indexing\n",
    "print(my_tuple[1])\n",
    "\n",
    "#Slicing\n",
    "print(my_tuple[0:2])\n",
    "\n",
    "#Len\n",
    "print(\"len of tuple\",len(my_tuple))\n",
    "\n",
    "#Membership Check\n",
    "print(20 in my_tuple)\n",
    "print(40 not in t)  # True   # True\n",
    "\n",
    "#Repetation \n",
    "print(\"Rep\",my_tuple * 4)\n",
    "\n",
    "#Count Elements\n",
    "t = (1, 2, 3, 2, 4, 2)\n",
    "print(\"Countelements\",t.count(2))  # Output: 3\n",
    "\n",
    "\n",
    "a = (1, 2)\n",
    "b = (3, 4)\n",
    "c = a + b\n",
    "print(\"Conc\",c)  # Output: (1, 2, 3, 4)\n",
    "\n",
    "\n",
    "\n"
   ]
  },
  {
   "cell_type": "markdown",
   "id": "f4ac7399",
   "metadata": {},
   "source": [
    "7. Set (set)\n",
    "* Unordered, no duplicates.\n",
    "* Useful for unique values only.\n",
    "\n",
    "\n",
    "Definition:\n",
    "A set is like a bag of unique values—no duplicates allowed, and order doesn’t matter.\n",
    "\n",
    "\n",
    "🧠 Real-World Example:\n",
    "Voter IDs (no duplicates)\n",
    "\n",
    "Subjects chosen in a course."
   ]
  },
  {
   "cell_type": "code",
   "execution_count": 25,
   "id": "8e66db1c",
   "metadata": {},
   "outputs": [
    {
     "name": "stdout",
     "output_type": "stream",
     "text": [
      "{1, 2, 3}\n",
      "{'green', 'red', 'blue'}\n"
     ]
    }
   ],
   "source": [
    "unique_numbers = {1, 2, 3}\n",
    "colors = {\"red\", \"green\", \"blue\"}\n",
    "print(unique_numbers)\n",
    "print(colors)"
   ]
  },
  {
   "cell_type": "code",
   "execution_count": 26,
   "id": "5f6f3fe8",
   "metadata": {},
   "outputs": [
    {
     "name": "stdout",
     "output_type": "stream",
     "text": [
      "Added Set: {10, 20, 30}\n",
      "{10, 30}\n",
      "set()\n",
      "{1, 2, 3, 4, 5}\n",
      "{2, 3}\n",
      "{1, 2}\n",
      "{5}\n"
     ]
    }
   ],
   "source": [
    "my_set = {10, 20, 30}\n",
    "\n",
    "#adding singel element in the set\n",
    "my_set.add(30)\n",
    "print(\"Added Set:\",my_set)\n",
    "\n",
    "#For Removing a value only if it exists\n",
    "my_set.remove(20)\n",
    "my_set\n",
    "\n",
    "#Also Removes a Value but No ERROR If the item is doesn't exist\n",
    "my_set.discard(50)  # No error even though 50 not in set\n",
    "print(my_set) \n",
    "\n",
    "#Empites the set\n",
    "my_set.clear()\n",
    "print(my_set)\n",
    "\n",
    "#UNION - Combines two sets (all elements, no duplicates).\n",
    "a = {1, 2, 3}\n",
    "b = {3, 4, 5}\n",
    "print(a.union(b))  # Output: {1, 2, 3, 4, 5}\n",
    "\n",
    "#Intersection - Returns only common elements between sets.\n",
    "a = {1, 2, 3}\n",
    "b = {2, 3, 4}\n",
    "print(a.intersection(b))  # Output: {2, 3}\n",
    "\n",
    "#Difference()-Returns items only in the first set, not in the second.\n",
    "a = {1, 2, 3, 4}\n",
    "b = {3, 4, 5}\n",
    "print(a.difference(b)) \n",
    "print(b.difference(a)) # Output: {1, 2}\n",
    "\n",
    "\n",
    "\n",
    "\n",
    "\n",
    "\n",
    "\n"
   ]
  },
  {
   "cell_type": "markdown",
   "id": "7739d595",
   "metadata": {},
   "source": [
    "8. Dictionary (dict)\n",
    "* Collection of key-value pairs.\n",
    "* Ordered (Python 3.7+), changeable, no duplicate keys.\n",
    "\n",
    " Definition:\n",
    "A dictionary is like a real dictionary — it maps a key to a value.\n",
    "\n",
    "🧠 Real-World Example:\n",
    "Contact info: {\"name\": \"Sara\", \"phone\": \"123456789\"}\n",
    "\n",
    "Student record with ID, name, scores."
   ]
  },
  {
   "cell_type": "code",
   "execution_count": 27,
   "id": "36337e2a",
   "metadata": {},
   "outputs": [
    {
     "name": "stdout",
     "output_type": "stream",
     "text": [
      "{'name': 'Ayaan', 'age': 25} {'id': 101, 'grade': 'A'}\n"
     ]
    }
   ],
   "source": [
    "person = {\"name\": \"Ayaan\", \"age\": 25}\n",
    "student = {\"id\": 101, \"grade\": \"A\"}\n",
    "print(person, student)"
   ]
  },
  {
   "cell_type": "code",
   "execution_count": 28,
   "id": "3010ce60",
   "metadata": {},
   "outputs": [],
   "source": [
    "person = {\n",
    "    \"name\": \"Alice\",\n",
    "    \"age\": 25,\n",
    "    \"city\": \"New York\"\n",
    "}"
   ]
  },
  {
   "cell_type": "code",
   "execution_count": 29,
   "id": "eb51ae4c",
   "metadata": {},
   "outputs": [
    {
     "name": "stdout",
     "output_type": "stream",
     "text": [
      "NA\n",
      "Keys are  dict_keys(['name', 'age', 'city'])\n",
      "Values are  dict_values(['Alice', 25, 'New York'])\n",
      "items are dict_items([('name', 'Alice'), ('age', 25), ('city', 'New York')])\n"
     ]
    }
   ],
   "source": [
    "#It  Can mutable \n",
    "\n",
    "#keys = name, age, city\n",
    "#values = alice, 25, NY\n",
    "\n",
    "#getting the data\n",
    "print(person.get(\"contact\",\"NA\")) #if contact is there print or else print NA\n",
    "\n",
    "#get Keys, values and items\n",
    "print(\"Keys are \",person.keys())\n",
    "print(\"Values are \",person.values())\n",
    "print(\"items are\",person.items())\n",
    "\n",
    "\n"
   ]
  },
  {
   "cell_type": "code",
   "execution_count": 30,
   "id": "321e2103",
   "metadata": {},
   "outputs": [
    {
     "name": "stdout",
     "output_type": "stream",
     "text": [
      "{'name': 'Surya', 'age': 25, 'city': 'New York'}\n"
     ]
    }
   ],
   "source": [
    "person[\"name\"]=\"Surya\"\n",
    "print(person)"
   ]
  },
  {
   "cell_type": "code",
   "execution_count": 31,
   "id": "9848657c",
   "metadata": {},
   "outputs": [
    {
     "name": "stdout",
     "output_type": "stream",
     "text": [
      "{'name': 'Surya', 'age': 25, 'city': 'New York', 'c': 3, 'a': 100}\n"
     ]
    }
   ],
   "source": [
    "person.update({\"c\": 3, \"a\": 100})\n",
    "print(person)  # {'a': 100, 'b': 2, 'c': 3}"
   ]
  },
  {
   "cell_type": "code",
   "execution_count": 32,
   "id": "1f8e9f6f",
   "metadata": {},
   "outputs": [
    {
     "name": "stdout",
     "output_type": "stream",
     "text": [
      "{'name': 'Surya', 'age': 25, 'city': 'New York', 'c': 3}\n"
     ]
    }
   ],
   "source": [
    "person.pop(\"a\")  # want to remove value by using Key 'a' \n",
    "print(person)"
   ]
  },
  {
   "cell_type": "code",
   "execution_count": 33,
   "id": "0739f206",
   "metadata": {},
   "outputs": [
    {
     "name": "stdout",
     "output_type": "stream",
     "text": [
      "{'name': 'Surya', 'age': 25, 'city': 'New York'}\n"
     ]
    }
   ],
   "source": [
    "person.popitem()\n",
    "print(person)  #Last in will remove  "
   ]
  },
  {
   "cell_type": "code",
   "execution_count": 34,
   "id": "e65ca6fc",
   "metadata": {},
   "outputs": [
    {
     "name": "stdout",
     "output_type": "stream",
     "text": [
      "{}\n"
     ]
    }
   ],
   "source": [
    "person.clear()\n",
    "print(person) #WANT TO CLEAR ENTIRE Dict\n",
    "\n"
   ]
  },
  {
   "cell_type": "markdown",
   "id": "9c6c04af",
   "metadata": {},
   "source": [
    "---"
   ]
  }
 ],
 "metadata": {
  "kernelspec": {
   "display_name": "Python 3",
   "language": "python",
   "name": "python3"
  },
  "language_info": {
   "codemirror_mode": {
    "name": "ipython",
    "version": 3
   },
   "file_extension": ".py",
   "mimetype": "text/x-python",
   "name": "python",
   "nbconvert_exporter": "python",
   "pygments_lexer": "ipython3",
   "version": "3.11.5"
  }
 },
 "nbformat": 4,
 "nbformat_minor": 5
}
